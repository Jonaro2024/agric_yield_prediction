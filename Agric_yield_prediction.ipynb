{
 "cells": [
  {
   "cell_type": "code",
   "execution_count": 1,
   "id": "3626bd8e-32d5-4209-8293-a664e90a59ec",
   "metadata": {},
   "outputs": [
    {
     "name": "stdout",
     "output_type": "stream",
     "text": [
      "Dataset successfully created with 3700 entries\n",
      "First 5 rows:\n",
      "  state soil_type  rainfall_mm  temperature_c  yield_tonnes_per_hectare  \\\n",
      "0  Abia     Loamy       1382.6           29.5                       4.5   \n",
      "1  Abia     Loamy       1382.6           29.5                       4.5   \n",
      "2  Abia     Sandy       1382.6           29.5                       2.8   \n",
      "3  Abia     Loamy       1382.6           29.5                       4.5   \n",
      "4  Abia     Loamy       1382.6           29.5                       4.6   \n",
      "\n",
      "   entry_id  \n",
      "0         0  \n",
      "1         1  \n",
      "2         2  \n",
      "3         3  \n",
      "4         4  \n"
     ]
    }
   ],
   "source": [
    "import numpy as np\n",
    "import pandas as pd\n",
    "from scipy.stats import truncnorm\n",
    "\n",
    "# Set all random seeds for reproducibility\n",
    "np.random.seed(42)\n",
    "random_seed = 42\n",
    "\n",
    "# List of all Nigerian states\n",
    "nigerian_states = sorted([\n",
    "    'Abia', 'Adamawa', 'Akwa Ibom', 'Anambra', 'Bauchi', 'Bayelsa', 'Benue', 'Borno',\n",
    "    'Cross River', 'Delta', 'Ebonyi', 'Edo', 'Ekiti', 'Enugu', 'Federal Capital Territory',\n",
    "    'Gombe', 'Imo', 'Jigawa', 'Kaduna', 'Kano', 'Katsina', 'Kebbi', 'Kogi', 'Kwara',\n",
    "    'Lagos', 'Nasarawa', 'Niger', 'Ogun', 'Ondo', 'Osun', 'Oyo', 'Plateau', 'Rivers',\n",
    "    'Sokoto', 'Taraba', 'Yobe', 'Zamfara'\n",
    "])\n",
    "\n",
    "# Define regional classifications\n",
    "coastal_states = ['Lagos', 'Delta', 'Rivers', 'Bayelsa', 'Akwa Ibom']\n",
    "northern_states = ['Sokoto', 'Katsina', 'Kano', 'Jigawa', 'Yobe', 'Borno']\n",
    "\n",
    "# Soil types and their properties\n",
    "soil_types = ['Sandy', 'Loamy', 'Clay', 'Silt', 'Laterite']\n",
    "soil_modifiers = {\n",
    "    'Loamy': 1.3,  # Best for agriculture\n",
    "    'Clay': 0.9,\n",
    "    'Sandy': 0.8,\n",
    "    'Silt': 1.0,\n",
    "    'Laterite': 0.7\n",
    "}\n",
    "\n",
    "def get_truncated_normal(mean, sd, low, upp, size=1):\n",
    "    \"\"\"Generate values from truncated normal distribution\"\"\"\n",
    "    return truncnorm(\n",
    "        (low - mean) / sd, (upp - mean) / sd, loc=mean, scale=sd\n",
    "    ).rvs(size, random_state=random_seed)\n",
    "\n",
    "def calculate_yield_factor(soil, rainfall, temp, state, entry_id):\n",
    "    \"\"\"Calculate the yield modification factor based on conditions\"\"\"\n",
    "    yield_factor = 1.0\n",
    "    \n",
    "    # Apply soil modifier\n",
    "    yield_factor *= soil_modifiers[soil]\n",
    "    \n",
    "    # Apply rainfall modifier\n",
    "    if rainfall < 800:\n",
    "        yield_factor *= 0.6 + (rainfall/800)*0.4\n",
    "    elif rainfall > 2000:\n",
    "        yield_factor *= max(0.5, 1.2 - (rainfall-2000)/1000)\n",
    "    else:\n",
    "        yield_factor *= 0.8 + (rainfall-800)/1200\n",
    "    \n",
    "    # Apply temperature modifier\n",
    "    if temp < 25:\n",
    "        yield_factor *= 0.7\n",
    "    elif temp > 35:\n",
    "        yield_factor *= max(0.5, 0.6 + 0.4*(35/temp))\n",
    "    \n",
    "    # Add small deterministic variation\n",
    "    variation = 1 + ((hash(state) + entry_id) % 100) / 1000\n",
    "    yield_factor *= variation\n",
    "    \n",
    "    return yield_factor\n",
    "\n",
    "def generate_state_data(state, entry_id):\n",
    "    \"\"\"Generate agricultural data for one state entry\"\"\"\n",
    "    if state in coastal_states:\n",
    "        rainfall = get_truncated_normal(2500, 300, 1800, 3200)[0]\n",
    "        temp = get_truncated_normal(28, 1, 25, 32)[0]\n",
    "        soil_probs = [0.4, 0.3, 0.2, 0.1, 0.0]\n",
    "    elif state in northern_states:\n",
    "        rainfall = get_truncated_normal(600, 150, 300, 1000)[0]\n",
    "        temp = get_truncated_normal(32, 2, 28, 38)[0]\n",
    "        soil_probs = [0.1, 0.2, 0.3, 0.2, 0.2]\n",
    "    else:\n",
    "        rainfall = get_truncated_normal(1500, 400, 800, 2200)[0]\n",
    "        temp = get_truncated_normal(30, 1.5, 26, 34)[0]\n",
    "        soil_probs = [0.2, 0.3, 0.2, 0.2, 0.1]\n",
    "    \n",
    "    # Generate a valid seed within NumPy's acceptable range\n",
    "    seed_value = (random_seed + abs(hash(state)) + entry_id) % (2**32 - 1)\n",
    "    np.random.seed(seed_value)\n",
    "    \n",
    "    # Select soil type\n",
    "    soil = soil_types[np.random.choice(len(soil_types), p=soil_probs)]\n",
    "    \n",
    "    # Calculate yield\n",
    "    base_yield = 2.5\n",
    "    yield_factor = calculate_yield_factor(soil, rainfall, temp, state, entry_id)\n",
    "    yield_value = base_yield * yield_factor\n",
    "    \n",
    "    return {\n",
    "        'state': state,\n",
    "        'soil_type': soil,\n",
    "        'rainfall_mm': round(rainfall, 1),\n",
    "        'temperature_c': round(temp, 1),\n",
    "        'yield_tonnes_per_hectare': round(max(0.5, min(5.0, yield_value)), 1),\n",
    "        'entry_id': entry_id\n",
    "    }\n",
    "\n",
    "# Generate the complete dataset\n",
    "data = []\n",
    "entries_per_state = 100\n",
    "\n",
    "for state in nigerian_states:\n",
    "    for entry_id in range(entries_per_state):\n",
    "        data.append(generate_state_data(state, entry_id))\n",
    "\n",
    "# Create DataFrame\n",
    "df = pd.DataFrame(data)\n",
    "\n",
    "# Save to CSV\n",
    "df.to_csv(r'C:\\Users\\SJP 2 COLLEGE\\Desktop\\DATA SCIENCEnigeria_agricultural_yield_simulation.csv', index=False)\n",
    "print(\"Dataset successfully created with\", len(df), \"entries\")\n",
    "print(\"First 5 rows:\")\n",
    "print(df.head())"
   ]
  },
  {
   "cell_type": "code",
   "execution_count": 2,
   "id": "ec7498cd-5bc4-4134-8daf-a2582bc9e9cf",
   "metadata": {},
   "outputs": [
    {
     "data": {
      "text/html": [
       "<div>\n",
       "<style scoped>\n",
       "    .dataframe tbody tr th:only-of-type {\n",
       "        vertical-align: middle;\n",
       "    }\n",
       "\n",
       "    .dataframe tbody tr th {\n",
       "        vertical-align: top;\n",
       "    }\n",
       "\n",
       "    .dataframe thead th {\n",
       "        text-align: right;\n",
       "    }\n",
       "</style>\n",
       "<table border=\"1\" class=\"dataframe\">\n",
       "  <thead>\n",
       "    <tr style=\"text-align: right;\">\n",
       "      <th></th>\n",
       "      <th>state</th>\n",
       "      <th>soil_type</th>\n",
       "      <th>rainfall_mm</th>\n",
       "      <th>temperature_c</th>\n",
       "      <th>yield_tonnes_per_hectare</th>\n",
       "      <th>entry_id</th>\n",
       "    </tr>\n",
       "  </thead>\n",
       "  <tbody>\n",
       "    <tr>\n",
       "      <th>0</th>\n",
       "      <td>Abia</td>\n",
       "      <td>Loamy</td>\n",
       "      <td>1382.6</td>\n",
       "      <td>29.5</td>\n",
       "      <td>4.5</td>\n",
       "      <td>0</td>\n",
       "    </tr>\n",
       "    <tr>\n",
       "      <th>1</th>\n",
       "      <td>Abia</td>\n",
       "      <td>Loamy</td>\n",
       "      <td>1382.6</td>\n",
       "      <td>29.5</td>\n",
       "      <td>4.5</td>\n",
       "      <td>1</td>\n",
       "    </tr>\n",
       "    <tr>\n",
       "      <th>2</th>\n",
       "      <td>Abia</td>\n",
       "      <td>Sandy</td>\n",
       "      <td>1382.6</td>\n",
       "      <td>29.5</td>\n",
       "      <td>2.8</td>\n",
       "      <td>2</td>\n",
       "    </tr>\n",
       "    <tr>\n",
       "      <th>3</th>\n",
       "      <td>Abia</td>\n",
       "      <td>Loamy</td>\n",
       "      <td>1382.6</td>\n",
       "      <td>29.5</td>\n",
       "      <td>4.5</td>\n",
       "      <td>3</td>\n",
       "    </tr>\n",
       "    <tr>\n",
       "      <th>4</th>\n",
       "      <td>Abia</td>\n",
       "      <td>Loamy</td>\n",
       "      <td>1382.6</td>\n",
       "      <td>29.5</td>\n",
       "      <td>4.6</td>\n",
       "      <td>4</td>\n",
       "    </tr>\n",
       "    <tr>\n",
       "      <th>...</th>\n",
       "      <td>...</td>\n",
       "      <td>...</td>\n",
       "      <td>...</td>\n",
       "      <td>...</td>\n",
       "      <td>...</td>\n",
       "      <td>...</td>\n",
       "    </tr>\n",
       "    <tr>\n",
       "      <th>3695</th>\n",
       "      <td>Zamfara</td>\n",
       "      <td>Loamy</td>\n",
       "      <td>1382.6</td>\n",
       "      <td>29.5</td>\n",
       "      <td>4.4</td>\n",
       "      <td>95</td>\n",
       "    </tr>\n",
       "    <tr>\n",
       "      <th>3696</th>\n",
       "      <td>Zamfara</td>\n",
       "      <td>Loamy</td>\n",
       "      <td>1382.6</td>\n",
       "      <td>29.5</td>\n",
       "      <td>4.4</td>\n",
       "      <td>96</td>\n",
       "    </tr>\n",
       "    <tr>\n",
       "      <th>3697</th>\n",
       "      <td>Zamfara</td>\n",
       "      <td>Sandy</td>\n",
       "      <td>1382.6</td>\n",
       "      <td>29.5</td>\n",
       "      <td>2.7</td>\n",
       "      <td>97</td>\n",
       "    </tr>\n",
       "    <tr>\n",
       "      <th>3698</th>\n",
       "      <td>Zamfara</td>\n",
       "      <td>Sandy</td>\n",
       "      <td>1382.6</td>\n",
       "      <td>29.5</td>\n",
       "      <td>2.7</td>\n",
       "      <td>98</td>\n",
       "    </tr>\n",
       "    <tr>\n",
       "      <th>3699</th>\n",
       "      <td>Zamfara</td>\n",
       "      <td>Loamy</td>\n",
       "      <td>1382.6</td>\n",
       "      <td>29.5</td>\n",
       "      <td>4.4</td>\n",
       "      <td>99</td>\n",
       "    </tr>\n",
       "  </tbody>\n",
       "</table>\n",
       "<p>3700 rows × 6 columns</p>\n",
       "</div>"
      ],
      "text/plain": [
       "        state soil_type  rainfall_mm  temperature_c  yield_tonnes_per_hectare  \\\n",
       "0        Abia     Loamy       1382.6           29.5                       4.5   \n",
       "1        Abia     Loamy       1382.6           29.5                       4.5   \n",
       "2        Abia     Sandy       1382.6           29.5                       2.8   \n",
       "3        Abia     Loamy       1382.6           29.5                       4.5   \n",
       "4        Abia     Loamy       1382.6           29.5                       4.6   \n",
       "...       ...       ...          ...            ...                       ...   \n",
       "3695  Zamfara     Loamy       1382.6           29.5                       4.4   \n",
       "3696  Zamfara     Loamy       1382.6           29.5                       4.4   \n",
       "3697  Zamfara     Sandy       1382.6           29.5                       2.7   \n",
       "3698  Zamfara     Sandy       1382.6           29.5                       2.7   \n",
       "3699  Zamfara     Loamy       1382.6           29.5                       4.4   \n",
       "\n",
       "      entry_id  \n",
       "0            0  \n",
       "1            1  \n",
       "2            2  \n",
       "3            3  \n",
       "4            4  \n",
       "...        ...  \n",
       "3695        95  \n",
       "3696        96  \n",
       "3697        97  \n",
       "3698        98  \n",
       "3699        99  \n",
       "\n",
       "[3700 rows x 6 columns]"
      ]
     },
     "execution_count": 2,
     "metadata": {},
     "output_type": "execute_result"
    }
   ],
   "source": [
    "df"
   ]
  },
  {
   "cell_type": "code",
   "execution_count": 3,
   "id": "32a1d264-bf4c-47bc-a64c-fcd941ba55e7",
   "metadata": {},
   "outputs": [
    {
     "name": "stdout",
     "output_type": "stream",
     "text": [
      "<class 'pandas.core.frame.DataFrame'>\n",
      "RangeIndex: 3700 entries, 0 to 3699\n",
      "Data columns (total 6 columns):\n",
      " #   Column                    Non-Null Count  Dtype  \n",
      "---  ------                    --------------  -----  \n",
      " 0   state                     3700 non-null   object \n",
      " 1   soil_type                 3700 non-null   object \n",
      " 2   rainfall_mm               3700 non-null   float64\n",
      " 3   temperature_c             3700 non-null   float64\n",
      " 4   yield_tonnes_per_hectare  3700 non-null   float64\n",
      " 5   entry_id                  3700 non-null   int64  \n",
      "dtypes: float64(3), int64(1), object(2)\n",
      "memory usage: 173.6+ KB\n"
     ]
    }
   ],
   "source": [
    "# checking for the null values and the data types\n",
    "df.info()"
   ]
  },
  {
   "cell_type": "code",
   "execution_count": 17,
   "id": "b590fb12-3484-4f4d-8464-468754975921",
   "metadata": {},
   "outputs": [
    {
     "data": {
      "text/html": [
       "<div>\n",
       "<style scoped>\n",
       "    .dataframe tbody tr th:only-of-type {\n",
       "        vertical-align: middle;\n",
       "    }\n",
       "\n",
       "    .dataframe tbody tr th {\n",
       "        vertical-align: top;\n",
       "    }\n",
       "\n",
       "    .dataframe thead th {\n",
       "        text-align: right;\n",
       "    }\n",
       "</style>\n",
       "<table border=\"1\" class=\"dataframe\">\n",
       "  <thead>\n",
       "    <tr style=\"text-align: right;\">\n",
       "      <th></th>\n",
       "      <th>rainfall_mm</th>\n",
       "      <th>temperature_c</th>\n",
       "      <th>yield_tonnes_per_hectare</th>\n",
       "    </tr>\n",
       "  </thead>\n",
       "  <tbody>\n",
       "    <tr>\n",
       "      <th>count</th>\n",
       "      <td>3700.000000</td>\n",
       "      <td>3700.000000</td>\n",
       "      <td>3700.000000</td>\n",
       "    </tr>\n",
       "    <tr>\n",
       "      <th>mean</th>\n",
       "      <td>1387.032432</td>\n",
       "      <td>29.564865</td>\n",
       "      <td>3.014676</td>\n",
       "    </tr>\n",
       "    <tr>\n",
       "      <th>std</th>\n",
       "      <td>502.083046</td>\n",
       "      <td>1.009609</td>\n",
       "      <td>0.868607</td>\n",
       "    </tr>\n",
       "    <tr>\n",
       "      <th>min</th>\n",
       "      <td>557.100000</td>\n",
       "      <td>27.700000</td>\n",
       "      <td>1.500000</td>\n",
       "    </tr>\n",
       "    <tr>\n",
       "      <th>25%</th>\n",
       "      <td>1382.600000</td>\n",
       "      <td>29.500000</td>\n",
       "      <td>2.400000</td>\n",
       "    </tr>\n",
       "    <tr>\n",
       "      <th>50%</th>\n",
       "      <td>1382.600000</td>\n",
       "      <td>29.500000</td>\n",
       "      <td>2.900000</td>\n",
       "    </tr>\n",
       "    <tr>\n",
       "      <th>75%</th>\n",
       "      <td>1382.600000</td>\n",
       "      <td>29.500000</td>\n",
       "      <td>3.500000</td>\n",
       "    </tr>\n",
       "    <tr>\n",
       "      <th>max</th>\n",
       "      <td>2406.000000</td>\n",
       "      <td>31.400000</td>\n",
       "      <td>4.600000</td>\n",
       "    </tr>\n",
       "  </tbody>\n",
       "</table>\n",
       "</div>"
      ],
      "text/plain": [
       "       rainfall_mm  temperature_c  yield_tonnes_per_hectare\n",
       "count  3700.000000    3700.000000               3700.000000\n",
       "mean   1387.032432      29.564865                  3.014676\n",
       "std     502.083046       1.009609                  0.868607\n",
       "min     557.100000      27.700000                  1.500000\n",
       "25%    1382.600000      29.500000                  2.400000\n",
       "50%    1382.600000      29.500000                  2.900000\n",
       "75%    1382.600000      29.500000                  3.500000\n",
       "max    2406.000000      31.400000                  4.600000"
      ]
     },
     "execution_count": 17,
     "metadata": {},
     "output_type": "execute_result"
    }
   ],
   "source": [
    "# to check the summary of the numerical features\n",
    "df.describe()"
   ]
  },
  {
   "cell_type": "code",
   "execution_count": 12,
   "id": "5afa0919-82fe-4959-a0df-0a7a205d9670",
   "metadata": {},
   "outputs": [
    {
     "data": {
      "text/plain": [
       "Index(['state', 'soil_type', 'rainfall_mm', 'temperature_c',\n",
       "       'yield_tonnes_per_hectare'],\n",
       "      dtype='object')"
      ]
     },
     "execution_count": 12,
     "metadata": {},
     "output_type": "execute_result"
    }
   ],
   "source": [
    "# checking if the columns contained whitespaces\n",
    "df.columns"
   ]
  },
  {
   "cell_type": "code",
   "execution_count": 13,
   "id": "3df95330-455f-463c-9437-445294f88e28",
   "metadata": {},
   "outputs": [
    {
     "data": {
      "text/html": [
       "<div>\n",
       "<style scoped>\n",
       "    .dataframe tbody tr th:only-of-type {\n",
       "        vertical-align: middle;\n",
       "    }\n",
       "\n",
       "    .dataframe tbody tr th {\n",
       "        vertical-align: top;\n",
       "    }\n",
       "\n",
       "    .dataframe thead th {\n",
       "        text-align: right;\n",
       "    }\n",
       "</style>\n",
       "<table border=\"1\" class=\"dataframe\">\n",
       "  <thead>\n",
       "    <tr style=\"text-align: right;\">\n",
       "      <th></th>\n",
       "      <th>state</th>\n",
       "      <th>soil_type</th>\n",
       "      <th>rainfall_mm</th>\n",
       "      <th>temperature_c</th>\n",
       "      <th>yield_tonnes_per_hectare</th>\n",
       "    </tr>\n",
       "  </thead>\n",
       "  <tbody>\n",
       "    <tr>\n",
       "      <th>0</th>\n",
       "      <td>Abia</td>\n",
       "      <td>Loamy</td>\n",
       "      <td>1382.6</td>\n",
       "      <td>29.5</td>\n",
       "      <td>4.5</td>\n",
       "    </tr>\n",
       "    <tr>\n",
       "      <th>1</th>\n",
       "      <td>Abia</td>\n",
       "      <td>Loamy</td>\n",
       "      <td>1382.6</td>\n",
       "      <td>29.5</td>\n",
       "      <td>4.5</td>\n",
       "    </tr>\n",
       "    <tr>\n",
       "      <th>2</th>\n",
       "      <td>Abia</td>\n",
       "      <td>Sandy</td>\n",
       "      <td>1382.6</td>\n",
       "      <td>29.5</td>\n",
       "      <td>2.8</td>\n",
       "    </tr>\n",
       "    <tr>\n",
       "      <th>3</th>\n",
       "      <td>Abia</td>\n",
       "      <td>Loamy</td>\n",
       "      <td>1382.6</td>\n",
       "      <td>29.5</td>\n",
       "      <td>4.5</td>\n",
       "    </tr>\n",
       "    <tr>\n",
       "      <th>4</th>\n",
       "      <td>Abia</td>\n",
       "      <td>Loamy</td>\n",
       "      <td>1382.6</td>\n",
       "      <td>29.5</td>\n",
       "      <td>4.6</td>\n",
       "    </tr>\n",
       "    <tr>\n",
       "      <th>...</th>\n",
       "      <td>...</td>\n",
       "      <td>...</td>\n",
       "      <td>...</td>\n",
       "      <td>...</td>\n",
       "      <td>...</td>\n",
       "    </tr>\n",
       "    <tr>\n",
       "      <th>3695</th>\n",
       "      <td>Zamfara</td>\n",
       "      <td>Loamy</td>\n",
       "      <td>1382.6</td>\n",
       "      <td>29.5</td>\n",
       "      <td>4.4</td>\n",
       "    </tr>\n",
       "    <tr>\n",
       "      <th>3696</th>\n",
       "      <td>Zamfara</td>\n",
       "      <td>Loamy</td>\n",
       "      <td>1382.6</td>\n",
       "      <td>29.5</td>\n",
       "      <td>4.4</td>\n",
       "    </tr>\n",
       "    <tr>\n",
       "      <th>3697</th>\n",
       "      <td>Zamfara</td>\n",
       "      <td>Sandy</td>\n",
       "      <td>1382.6</td>\n",
       "      <td>29.5</td>\n",
       "      <td>2.7</td>\n",
       "    </tr>\n",
       "    <tr>\n",
       "      <th>3698</th>\n",
       "      <td>Zamfara</td>\n",
       "      <td>Sandy</td>\n",
       "      <td>1382.6</td>\n",
       "      <td>29.5</td>\n",
       "      <td>2.7</td>\n",
       "    </tr>\n",
       "    <tr>\n",
       "      <th>3699</th>\n",
       "      <td>Zamfara</td>\n",
       "      <td>Loamy</td>\n",
       "      <td>1382.6</td>\n",
       "      <td>29.5</td>\n",
       "      <td>4.4</td>\n",
       "    </tr>\n",
       "  </tbody>\n",
       "</table>\n",
       "<p>3700 rows × 5 columns</p>\n",
       "</div>"
      ],
      "text/plain": [
       "        state soil_type  rainfall_mm  temperature_c  yield_tonnes_per_hectare\n",
       "0        Abia     Loamy       1382.6           29.5                       4.5\n",
       "1        Abia     Loamy       1382.6           29.5                       4.5\n",
       "2        Abia     Sandy       1382.6           29.5                       2.8\n",
       "3        Abia     Loamy       1382.6           29.5                       4.5\n",
       "4        Abia     Loamy       1382.6           29.5                       4.6\n",
       "...       ...       ...          ...            ...                       ...\n",
       "3695  Zamfara     Loamy       1382.6           29.5                       4.4\n",
       "3696  Zamfara     Loamy       1382.6           29.5                       4.4\n",
       "3697  Zamfara     Sandy       1382.6           29.5                       2.7\n",
       "3698  Zamfara     Sandy       1382.6           29.5                       2.7\n",
       "3699  Zamfara     Loamy       1382.6           29.5                       4.4\n",
       "\n",
       "[3700 rows x 5 columns]"
      ]
     },
     "execution_count": 13,
     "metadata": {},
     "output_type": "execute_result"
    }
   ],
   "source": [
    "df"
   ]
  },
  {
   "cell_type": "code",
   "execution_count": 53,
   "id": "0587b173-9526-4042-993c-a2f317207eca",
   "metadata": {},
   "outputs": [
    {
     "data": {
      "image/png": "[encoded data removed]",
      "text/plain": [
       "<Figure size 1200x600 with 1 Axes>"
      ]
     },
     "metadata": {},
     "output_type": "display_data"
    }
   ],
   "source": [
    "# visuals\n",
    "import seaborn as sns\n",
    "import matplotlib.pyplot as plt\n",
    "\n",
    "\n",
    "plt.figure(figsize=(12, 6))\n",
    "sns.histplot(df['rainfall_mm'], bins=15, kde=True, color='skyblue')\n",
    "plt.title('Distribution of Rainfall')\n",
    "plt.xlabel('Rainfall Amount (mm)')\n",
    "plt.ylabel('Frequency')\n",
    "plt.grid(alpha=0.3)\n",
    "plt.show()"
   ]
  },
  {
   "cell_type": "code",
   "execution_count": 52,
   "id": "d6e237c6-978a-4ded-b2d5-b313a37101f2",
   "metadata": {},
   "outputs": [
    {
     "data": {
      "image/png": "[encoded data removed]",
      "text/plain": [
       "<Figure size 1200x600 with 1 Axes>"
      ]
     },
     "metadata": {},
     "output_type": "display_data"
    }
   ],
   "source": [
    "plt.figure(figsize=(12, 6))\n",
    "sns.histplot(df['temperature_c'], bins=15, kde=True, color='skyblue')\n",
    "plt.title('Distribution of Temperature')\n",
    "plt.xlabel('Temperature (celsius) Amount')\n",
    "plt.ylabel('Frequency')\n",
    "plt.grid(alpha=0.3)\n",
    "plt.show()"
   ]
  },
  {
   "cell_type": "code",
   "execution_count": 54,
   "id": "0bc8629b-08b2-47bb-a151-ccb7f5badce2",
   "metadata": {},
   "outputs": [
    {
     "data": {
      "image/png": "[encoded data removed]",
      "text/plain": [
       "<Figure size 1200x600 with 1 Axes>"
      ]
     },
     "metadata": {},
     "output_type": "display_data"
    }
   ],
   "source": [
    "plt.figure(figsize=(12, 6))\n",
    "sns.histplot(df['yield_tonnes_per_hectare'], bins=15, kde=True, color='skyblue')\n",
    "plt.title('Distribution of Yield')\n",
    "plt.xlabel('Yield Amount')\n",
    "plt.ylabel('Frequency')\n",
    "plt.grid(alpha=0.3)\n",
    "plt.show()"
   ]
  },
  {
   "cell_type": "code",
   "execution_count": 15,
   "id": "2a04b045-8b19-477f-8d7a-25c7200f7cd9",
   "metadata": {},
   "outputs": [
    {
     "data": {
      "text/plain": [
       "26"
      ]
     },
     "execution_count": 15,
     "metadata": {},
     "output_type": "execute_result"
    }
   ],
   "source": [
    "df['yield_tonnes_per_hectare'].nunique() # shows the number of possible yields"
   ]
  },
  {
   "cell_type": "code",
   "execution_count": 16,
   "id": "3ba4c07d-c2ff-420a-aecf-b1135aa1b258",
   "metadata": {},
   "outputs": [
    {
     "data": {
      "text/plain": [
       "array([4.5, 2.8, 4.6, 3.2, 2.5, 3.5, 2.2, 2.9, 4.2, 2.3, 2.6, 3. , 4.3,\n",
       "       3.3, 2.7, 4.4, 3.4, 2.4, 3.1, 1.6, 1.8, 2. , 2.1, 1.9, 1.7, 1.5])"
      ]
     },
     "execution_count": 16,
     "metadata": {},
     "output_type": "execute_result"
    }
   ],
   "source": [
    "df['yield_tonnes_per_hectare'].unique() # show all the possible yields"
   ]
  },
  {
   "cell_type": "markdown",
   "id": "f5a707a4-57ee-4f01-a71d-335a77e0e61f",
   "metadata": {},
   "source": [
    "from the above we can deduce that the for our target feature is 1.5 - 4.6"
   ]
  },
  {
   "cell_type": "code",
   "execution_count": 35,
   "id": "4f766734-3e37-4a9c-93e8-7b50408ff877",
   "metadata": {},
   "outputs": [],
   "source": [
    "# ##\n",
    "from sklearn.model_selection import train_test_split\n",
    "from sklearn.compose import ColumnTransformer\n",
    "from sklearn.preprocessing import OneHotEncoder, StandardScaler\n",
    "\n",
    "X = df.drop(columns=['yield_tonnes_per_hectare'])  # Features\n",
    "y = df['yield_tonnes_per_hectare']                 # Target\n",
    "\n",
    "# Split into train/test sets\n",
    "X_train, X_test, y_train, y_test = train_test_split(\n",
    "    X, y, test_size=0.2, random_state=42\n",
    ")"
   ]
  },
  {
   "cell_type": "code",
   "execution_count": 38,
   "id": "9b3e7106-f4ee-4fc1-8fc5-065c8021a0b3",
   "metadata": {},
   "outputs": [],
   "source": [
    "# Create a ColumnTransformer to:\n",
    "#   - OneHotEncode 'soil_type'\n",
    "#   - Scale numerical columns ('rainfall', 'temperature')\n",
    "preprocessor = ColumnTransformer(\n",
    "    transformers=[\n",
    "        ('cat', OneHotEncoder(), ['soil_type']),       # Apply to categorical column\n",
    "        ('num', StandardScaler(), ['rainfall_mm', 'temperature_c'])  # Apply to numerical columns\n",
    "    ],\n",
    "    remainder='drop'  # Ignore other columns (if any)\n",
    ")"
   ]
  },
  {
   "cell_type": "code",
   "execution_count": 39,
   "id": "3c705529-d8d0-4fd8-8065-35df5b4eb36f",
   "metadata": {},
   "outputs": [],
   "source": [
    "# Fit and transform the training data\n",
    "X_train_processed = preprocessor.fit_transform(X_train)\n",
    "\n",
    "# Transform the test data (using fitted preprocessor)\n",
    "X_test_processed = preprocessor.transform(X_test)"
   ]
  },
  {
   "cell_type": "code",
   "execution_count": 43,
   "id": "181effa5-228e-4750-b1de-d42ed7af85d4",
   "metadata": {},
   "outputs": [
    {
     "name": "stdout",
     "output_type": "stream",
     "text": [
      "Processed Train Shape: (2960, 7)\n",
      "Processed Test Shape: (740, 7)\n"
     ]
    }
   ],
   "source": [
    "print(\"Processed Train Shape:\", X_train_processed.shape)\n",
    "print(\"Processed Test Shape:\", X_test_processed.shape)"
   ]
  },
  {
   "cell_type": "code",
   "execution_count": 44,
   "id": "eb8350aa-757e-4a84-84be-8e28639e211a",
   "metadata": {},
   "outputs": [
    {
     "name": "stdout",
     "output_type": "stream",
     "text": [
      "\n",
      "Evaluation Metrics:\n",
      "RMSE: 0.09735418757217297\n",
      "R² Score: 0.98687164888109\n",
      "\n",
      "Best Parameters: {'n_neighbors': 6}\n",
      "\n",
      "Tuned Model Performance:\n",
      "RMSE: 0.09553861851433498\n",
      "R² Score: 0.9873567471370142\n"
     ]
    }
   ],
   "source": [
    "# Import required libraries\n",
    "from sklearn.neighbors import KNeighborsRegressor  # For continuous 'yield'\n",
    "# If predicting categories instead, use:\n",
    "# from sklearn.neighbors import KNeighborsClassifier\n",
    "from sklearn.metrics import mean_squared_error, r2_score\n",
    "import numpy as np\n",
    "\n",
    "# 1. Train KNN model\n",
    "knn = KNeighborsRegressor(n_neighbors=5)  # Start with default 5 neighbors\n",
    "knn.fit(X_train_processed, y_train)      # Train on processed features\n",
    "\n",
    "# 2. Make predictions\n",
    "y_pred = knn.predict(X_test_processed)\n",
    "\n",
    "# 3. Evaluate model\n",
    "print(\"\\nEvaluation Metrics:\")\n",
    "print(\"RMSE:\", np.sqrt(mean_squared_error(y_test, y_pred)))\n",
    "print(\"R² Score:\", r2_score(y_test, y_pred))\n",
    "\n",
    "# 4. (Optional) Hyperparameter Tuning\n",
    "from sklearn.model_selection import GridSearchCV\n",
    "\n",
    "param_grid = {'n_neighbors': range(3, 21)}\n",
    "grid_search = GridSearchCV(knn, param_grid, cv=5, scoring='neg_mean_squared_error')\n",
    "grid_search.fit(X_train_processed, y_train)\n",
    "\n",
    "# Get best model\n",
    "best_knn = grid_search.best_estimator_\n",
    "print(f\"\\nBest Parameters: {grid_search.best_params_}\")\n",
    "\n",
    "# Evaluate tuned model\n",
    "y_pred_best = best_knn.predict(X_test_processed)\n",
    "print(\"\\nTuned Model Performance:\")\n",
    "print(\"RMSE:\", np.sqrt(mean_squared_error(y_test, y_pred_best)))\n",
    "print(\"R² Score:\", r2_score(y_test, y_pred_best))"
   ]
  },
  {
   "cell_type": "markdown",
   "id": "3636b92b-2e7d-4832-89a4-1e4f1939be46",
   "metadata": {},
   "source": [
    "The values for our R² indicate our model predicting capability is about 99%"
   ]
  },
  {
   "cell_type": "code",
   "execution_count": 45,
   "id": "e10357da-716e-49ef-b0b0-8720444f28fb",
   "metadata": {},
   "outputs": [
    {
     "name": "stdout",
     "output_type": "stream",
     "text": [
      "\n",
      "Feature Importance:\n",
      "rainfall_mm         : 0.561\n",
      "temperature_c       : 0.366\n",
      "soil_type_Loamy     : 0.362\n",
      "soil_type_Sandy     : 0.265\n",
      "soil_type_Laterite  : 0.174\n",
      "soil_type_Silt      : 0.086\n",
      "soil_type_Clay      : 0.036\n"
     ]
    }
   ],
   "source": [
    "# Get feature names after preprocessing\n",
    "cat_features = preprocessor.named_transformers_['cat'].get_feature_names_out(['soil_type'])\n",
    "num_features = ['rainfall_mm', 'temperature_c']  # Scaled version names same\n",
    "all_features = np.concatenate([cat_features, num_features])\n",
    "\n",
    "# Analyze coefficients (for linear models) or permutation importance for KNN\n",
    "from sklearn.inspection import permutation_importance\n",
    "result = permutation_importance(best_knn, X_test_processed, y_test, n_repeats=10)\n",
    "sorted_idx = result.importances_mean.argsort()[::-1]\n",
    "\n",
    "print(\"\\nFeature Importance:\")\n",
    "for i in sorted_idx:\n",
    "    print(f\"{all_features[i]:<20}: {result.importances_mean[i]:.3f}\")"
   ]
  },
  {
   "cell_type": "code",
   "execution_count": 46,
   "id": "e0b3066d-149e-4cff-84ff-e9d772f709e0",
   "metadata": {},
   "outputs": [],
   "source": [
    "from sklearn.pipeline import Pipeline\n",
    "\n",
    "full_pipe = Pipeline([\n",
    "    ('preprocessor', preprocessor),\n",
    "    ('model', KNeighborsRegressor(n_neighbors=grid_search.best_params_['n_neighbors']))\n",
    "])\n",
    "\n",
    "# Train and predict with one object\n",
    "full_pipe.fit(X_train, y_train)\n",
    "y_pred_pipe = full_pipe.predict(X_test)"
   ]
  },
  {
   "cell_type": "code",
   "execution_count": 47,
   "id": "edcbc2b4-304e-40db-bc03-61717bce59e0",
   "metadata": {},
   "outputs": [
    {
     "data": {
      "image/png": "[encoded data removed]",
      "text/plain": [
       "<Figure size 640x480 with 1 Axes>"
      ]
     },
     "metadata": {},
     "output_type": "display_data"
    }
   ],
   "source": [
    "import matplotlib.pyplot as plt\n",
    "\n",
    "plt.scatter(y_test, y_pred_best)\n",
    "plt.plot([y_test.min(), y_test.max()], [y_test.min(), y_test.max()], 'k--')\n",
    "plt.xlabel('Actual Yield')\n",
    "plt.ylabel('Predicted Yield')\n",
    "plt.title('Actual vs Predicted Yield')\n",
    "plt.show()"
   ]
  },
  {
   "cell_type": "code",
   "execution_count": 49,
   "id": "e8563d81-7e3e-43f2-9a48-68e7ac95064e",
   "metadata": {},
   "outputs": [],
   "source": [
    "!pip freeze > requirements.txt"
   ]
  },
  {
   "cell_type": "code",
   "execution_count": null,
   "id": "267906b9-5f19-4f17-98ff-e60cb547c505",
   "metadata": {},
   "outputs": [],
   "source": []
  },
  {
   "cell_type": "code",
   "execution_count": null,
   "id": "e5438639-0780-4636-bd00-ba475d47214a",
   "metadata": {},
   "outputs": [],
   "source": []
  }
 ],
 "metadata": {
  "kernelspec": {
   "display_name": "Python 3 (ipykernel)",
   "language": "python",
   "name": "python3"
  },
  "language_info": {
   "codemirror_mode": {
    "name": "ipython",
    "version": 3
   },
   "file_extension": ".py",
   "mimetype": "text/x-python",
   "name": "python",
   "nbconvert_exporter": "python",
   "pygments_lexer": "ipython3",
   "version": "3.12.7"
  }
 },
 "nbformat": 4,
 "nbformat_minor": 5
}
